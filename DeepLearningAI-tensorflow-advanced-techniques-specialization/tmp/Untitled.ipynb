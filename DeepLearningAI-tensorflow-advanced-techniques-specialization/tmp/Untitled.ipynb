{
 "cells": [
  {
   "cell_type": "code",
   "execution_count": 1,
   "id": "57db3266",
   "metadata": {},
   "outputs": [],
   "source": [
    "import numpy as np\n",
    "import matplotlib.pyplot as plt\n",
    "import tensorflow as tf\n",
    "import tensorflow.keras as keras\n",
    "import tensorflow.keras.backend as K\n",
    "from tensorflow.keras import models, layers\n",
    "import tensorflow.keras.datasets as tfds"
   ]
  },
  {
   "cell_type": "code",
   "execution_count": 2,
   "id": "4a167f4b",
   "metadata": {},
   "outputs": [
    {
     "name": "stdout",
     "output_type": "stream",
     "text": [
      "Epoch 1/5\n",
      "1875/1875 [==============================] - 36s 12ms/step - loss: 0.2554 - acc: 0.9276 - val_loss: 0.1380 - val_acc: 0.9570\n",
      "Epoch 2/5\n",
      "1875/1875 [==============================] - 18s 10ms/step - loss: 0.1132 - acc: 0.9657 - val_loss: 0.1043 - val_acc: 0.9667\n",
      "Epoch 3/5\n",
      "1875/1875 [==============================] - 16s 9ms/step - loss: 0.0778 - acc: 0.9770 - val_loss: 0.0733 - val_acc: 0.9776\n",
      "Epoch 4/5\n",
      "1875/1875 [==============================] - 16s 9ms/step - loss: 0.0597 - acc: 0.9814 - val_loss: 0.0792 - val_acc: 0.9758\n",
      "Epoch 5/5\n",
      "1875/1875 [==============================] - 16s 9ms/step - loss: 0.0466 - acc: 0.9852 - val_loss: 0.0748 - val_acc: 0.9767\n"
     ]
    },
    {
     "data": {
      "text/plain": [
       "<keras.callbacks.History at 0x1f88e93c580>"
      ]
     },
     "execution_count": 2,
     "metadata": {},
     "output_type": "execute_result"
    }
   ],
   "source": [
    "# MNIST\n",
    "inp = layers.Input(shape=(28, 28))\n",
    "x = layers.Flatten()(inp)\n",
    "x = layers.Dense(128, activation=keras.activations.relu)(x)\n",
    "x = layers.Dense(10, activation=keras.activations.softmax)(x)\n",
    "model = models.Model(inputs=inp, outputs=x)\n",
    "\n",
    "(x_train, y_train), (x_test, y_test) = tfds.mnist.load_data()\n",
    "x_train = x_train / 255.\n",
    "x_test  = x_test / 255.\n",
    "# y_train = keras.utils.to_categorical(y_train)\n",
    "# y_test  = keras.utils.to_categorical(y_test)\n",
    "\n",
    "# model.compile(optimizer=keras.optimizers.Adam(), loss=keras.losses.categorical_crossentropy, metrics=[\"acc\"])\n",
    "\n",
    "# or\n",
    "model.compile(optimizer=keras.optimizers.Adam(), loss=keras.losses.sparse_categorical_crossentropy, metrics=[\"acc\"])\n",
    "\n",
    "model.fit(\n",
    "    x_train, y_train,\n",
    "    epochs=5,\n",
    "    batch_size=32,\n",
    "    validation_data=(x_test, y_test),\n",
    "    validation_batch_size=32\n",
    ")"
   ]
  },
  {
   "cell_type": "code",
   "execution_count": 3,
   "id": "a25047b0",
   "metadata": {},
   "outputs": [
    {
     "name": "stdout",
     "output_type": "stream",
     "text": [
      "Model: \"model_1\"\n",
      "__________________________________________________________________________________________________\n",
      " Layer (type)                   Output Shape         Param #     Connected to                     \n",
      "==================================================================================================\n",
      " input_2 (InputLayer)           [(None, 8)]          0           []                               \n",
      "                                                                                                  \n",
      " dense_2 (Dense)                (None, 128)          1152        ['input_2[0][0]']                \n",
      "                                                                                                  \n",
      " dense_3 (Dense)                (None, 128)          16512       ['dense_2[0][0]']                \n",
      "                                                                                                  \n",
      " dense_4 (Dense)                (None, 64)           8256        ['dense_3[0][0]']                \n",
      "                                                                                                  \n",
      " y1_output (Dense)              (None, 1)            129         ['dense_3[0][0]']                \n",
      "                                                                                                  \n",
      " y2_output (Dense)              (None, 1)            65          ['dense_4[0][0]']                \n",
      "                                                                                                  \n",
      "==================================================================================================\n",
      "Total params: 26,114\n",
      "Trainable params: 26,114\n",
      "Non-trainable params: 0\n",
      "__________________________________________________________________________________________________\n"
     ]
    },
    {
     "data": {
      "image/png": "[encoded data removed]",
      "text/plain": [
       "<IPython.core.display.Image object>"
      ]
     },
     "execution_count": 3,
     "metadata": {},
     "output_type": "execute_result"
    }
   ],
   "source": [
    "from keras.utils import plot_model\n",
    "\n",
    "\n",
    "inp = layers.Input(shape=(8,))\n",
    "dense1 = layers.Dense(128, activation=tf.nn.relu)(inp)\n",
    "dense2 = layers.Dense(128, activation=tf.keras.activations.relu)(dense1)\n",
    "y1_output = layers.Dense(1, name=\"y1_output\")(dense2)\n",
    "dense3 = layers.Dense(64, activation=tf.keras.activations.relu)(dense2)\n",
    "y2_output = layers.Dense(1, name=\"y2_output\")(dense3)\n",
    "model = models.Model(inputs=inp, outputs=[y1_output, y2_output])\n",
    "\n",
    "model.summary()\n",
    "\n",
    "optimizer = tf.keras.optimizers.SGD(learning_rate=0.001)\n",
    "model.compile(optimizer=optimizer,\n",
    "             loss={\"y1_output\": keras.losses.mse, \"y2_output\": keras.losses.mse},\n",
    "             metrics={\n",
    "                 \"y1_output\": tf.keras.metrics.RootMeanSquaredError(),\n",
    "                 \"y2_output\": tf.keras.metrics.RootMeanSquaredError()})\n",
    "\n",
    "plot_model(model, show_shapes=True, show_layer_activations=True)"
   ]
  },
  {
   "cell_type": "code",
   "execution_count": 4,
   "id": "7c6bf6c6",
   "metadata": {},
   "outputs": [
    {
     "name": "stdout",
     "output_type": "stream",
     "text": [
      "(119980, 2, 28, 28) (119980,)\n"
     ]
    },
    {
     "data": {
      "image/png": "[encoded data removed]",
      "text/plain": [
       "<Figure size 432x288 with 2 Axes>"
      ]
     },
     "metadata": {
      "needs_background": "light"
     },
     "output_type": "display_data"
    },
    {
     "data": {
      "image/png": "[encoded data removed]",
      "text/plain": [
       "<Figure size 432x288 with 2 Axes>"
      ]
     },
     "metadata": {
      "needs_background": "light"
     },
     "output_type": "display_data"
    },
    {
     "name": "stdout",
     "output_type": "stream",
     "text": [
      "1.0\n",
      "Epoch 1/20\n",
      "938/938 [==============================] - 34s 21ms/step - loss: 0.1105 - val_loss: 0.0856\n",
      "Epoch 2/20\n",
      "938/938 [==============================] - 17s 18ms/step - loss: 0.0786 - val_loss: 0.0725\n",
      "Epoch 3/20\n",
      "938/938 [==============================] - 17s 18ms/step - loss: 0.0702 - val_loss: 0.0698\n",
      "Epoch 4/20\n",
      "938/938 [==============================] - 17s 18ms/step - loss: 0.0656 - val_loss: 0.0671\n",
      "Epoch 5/20\n",
      "938/938 [==============================] - 17s 18ms/step - loss: 0.0624 - val_loss: 0.0655\n",
      "Epoch 6/20\n",
      "938/938 [==============================] - 16s 18ms/step - loss: 0.0603 - val_loss: 0.0661\n",
      "Epoch 7/20\n",
      "938/938 [==============================] - 16s 17ms/step - loss: 0.0583 - val_loss: 0.0639\n",
      "Epoch 8/20\n",
      "938/938 [==============================] - 17s 18ms/step - loss: 0.0571 - val_loss: 0.0649\n",
      "Epoch 9/20\n",
      "938/938 [==============================] - 17s 19ms/step - loss: 0.0562 - val_loss: 0.0672\n",
      "Epoch 10/20\n",
      "938/938 [==============================] - 17s 18ms/step - loss: 0.0549 - val_loss: 0.0621\n",
      "Epoch 11/20\n",
      "938/938 [==============================] - 17s 18ms/step - loss: 0.0540 - val_loss: 0.0643\n",
      "Epoch 12/20\n",
      "938/938 [==============================] - 17s 18ms/step - loss: 0.0532 - val_loss: 0.0658\n",
      "Epoch 13/20\n",
      "938/938 [==============================] - 17s 18ms/step - loss: 0.0528 - val_loss: 0.0630\n",
      "Epoch 14/20\n",
      "938/938 [==============================] - 17s 18ms/step - loss: 0.0520 - val_loss: 0.0661\n",
      "Epoch 15/20\n",
      "938/938 [==============================] - 17s 18ms/step - loss: 0.0512 - val_loss: 0.0651\n",
      "Epoch 16/20\n",
      "938/938 [==============================] - 17s 18ms/step - loss: 0.0508 - val_loss: 0.0640\n",
      "Epoch 17/20\n",
      "938/938 [==============================] - 17s 18ms/step - loss: 0.0504 - val_loss: 0.0652\n",
      "Epoch 18/20\n",
      "938/938 [==============================] - 16s 17ms/step - loss: 0.0502 - val_loss: 0.0651\n",
      "Epoch 19/20\n",
      "938/938 [==============================] - 16s 18ms/step - loss: 0.0493 - val_loss: 0.0619\n",
      "Epoch 20/20\n",
      "938/938 [==============================] - 16s 18ms/step - loss: 0.0493 - val_loss: 0.0621\n",
      "625/625 [==============================] - 4s 6ms/step - loss: 0.0621\n"
     ]
    }
   ],
   "source": [
    "import random\n",
    "\n",
    "def create_pairs(x, digit_indices):\n",
    "    pairs = []\n",
    "    labels = []\n",
    "    n = min([len(digit_indices[d]) for d in range(10)]) - 1\n",
    "    for d in range(10):\n",
    "        for i in range(n):\n",
    "            z1, z2 = digit_indices[d][i], digit_indices[d][i + 1]\n",
    "            pairs += [[x[z1], x[z2]]]\n",
    "            inc = random.randrange(1, 10)\n",
    "            dn = (d + inc) % 10\n",
    "            z1, z2 = digit_indices[dn][i], digit_indices[d][i + 1]\n",
    "            pairs += [[x[z1], x[z2]]]\n",
    "            labels += [1, 0]\n",
    "    return np.array(pairs), np.array(labels)\n",
    "\n",
    "def create_pairs_on_set(images, labels):\n",
    "    digit_indices = [np.where(labels == i)[0] for i in range(10)]\n",
    "    pairs, y = create_pairs(images, digit_indices)\n",
    "    y = y.astype(\"float32\")\n",
    "    return pairs, y\n",
    "\n",
    "(train_images, train_labels), (test_images, test_labels) = tfds.fashion_mnist.load_data()\n",
    "\n",
    "train_images = train_images.astype(\"float32\")\n",
    "test_images = test_images.astype(\"float32\")\n",
    "\n",
    "train_images /= 255.0\n",
    "test_images /= 255.0\n",
    "\n",
    "tr_paires, tr_y = create_pairs_on_set(train_images, train_labels)\n",
    "ts_paires, ts_y = create_pairs_on_set(test_images, test_labels)\n",
    "print(tr_paires.shape, tr_y.shape)\n",
    "\n",
    "def show_image(image):\n",
    "    plt.figure()\n",
    "    plt.imshow(image)\n",
    "    plt.colorbar()\n",
    "    plt.grid(False)\n",
    "    plt.show()\n",
    "\n",
    "this_pair = 10\n",
    "show_image(tr_paires[this_pair][0])\n",
    "show_image(tr_paires[this_pair][1])\n",
    "print(tr_y[this_pair])\n",
    "\n",
    "def initialize_base_network():\n",
    "    inp = layers.Input(shape=(28, 28, ))\n",
    "    x = layers.Flatten()(inp)\n",
    "    x = layers.Dense(128, activation=\"relu\")(x)\n",
    "    x = layers.Dropout(0.1)(x)\n",
    "    x = layers.Dense(128, activation=\"relu\")(x)\n",
    "    x = layers.Dropout(0.1)(x)\n",
    "    x = layers.Dense(128, activation=\"relu\")(x)\n",
    "    return models.Model(inputs=inp, outputs=x)\n",
    "\n",
    "def eculidean_distance(vects):\n",
    "    x, y = vects\n",
    "    sum_square = K.sum(K.square(x - y), axis=1, keepdims=True)\n",
    "    return K.sqrt(K.maximum(sum_square, K.epsilon()))\n",
    "\n",
    "def ecul_dist_output_shape(shapes):\n",
    "    shape1, shape2 = shapes\n",
    "    return (shape1[0], 1)\n",
    "\n",
    "base_network = initialize_base_network()\n",
    "plot_model(base_network, show_shapes=True, show_layer_names=True)\n",
    "\n",
    "input_a = layers.Input(shape=(28, 28, ), name=\"left_input\")\n",
    "input_b = layers.Input(shape=(28, 28, ), name=\"right_input\")\n",
    "\n",
    "vect_output_a = base_network(input_a)\n",
    "vect_output_b = base_network(input_b)\n",
    "\n",
    "output = layers.Lambda(eculidean_distance, output_shape=ecul_dist_output_shape, name=\"output_layer\")([vect_output_a, vect_output_b])\n",
    "model = models.Model(inputs=[input_a, input_b], outputs=output)\n",
    "\n",
    "plot_model(model, show_shapes=True, show_layer_names=True)\n",
    "\n",
    "def contrastive_loss_with_margin(margin):\n",
    "    def contrastive_loss(y_true, y_pred):\n",
    "        square_pred = K.square(y_pred)\n",
    "        margin_square = K.square(K.maximum(margin - y_pred, 0))\n",
    "        return K.mean(y_true * square_pred + (1 - y_true) * margin_square)\n",
    "    return contrastive_loss\n",
    "\n",
    "rms = keras.optimizers.RMSprop()\n",
    "model.compile(loss=contrastive_loss_with_margin(margin=1), optimizer=rms)\n",
    "history = model.fit([tr_paires[:, 0], tr_paires[:, 1]], tr_y, epochs=20, batch_size=128, validation_data=([ts_paires[:, 0], ts_paires[:, 1]], ts_y))\n",
    "loss = model.evaluate(x=[ts_paires[:, 0], ts_paires[:, 1]], y=ts_y)"
   ]
  },
  {
   "cell_type": "code",
   "execution_count": 5,
   "id": "0937b489",
   "metadata": {},
   "outputs": [],
   "source": [
    "class ContrastiveLoss(keras.losses.Loss):\n",
    "    def __init__(self, marigin=0):\n",
    "        super().__init__()\n",
    "        self.marigin = marigin\n",
    "    \n",
    "    def call(self, y_true, y_pred):\n",
    "        square_pred = K.square(y_pred)\n",
    "        margin_square = K.square(K.maximum(self.margin - y_pred, 0))\n",
    "        return K.mean(y_true * square_pred + (1 - y_true) * margin_square)\n",
    "\n",
    "def my_relu(x):\n",
    "    return K.maximum(0.5, x)\n",
    "\n",
    "my_lambda1 = layers.Lambda(my_relu)\n",
    "my_lambda2 = layers.Lambda(lambda x: K.abs(x))"
   ]
  },
  {
   "cell_type": "code",
   "execution_count": 31,
   "id": "c16a1736",
   "metadata": {},
   "outputs": [],
   "source": [
    "# class SimpleDense(layers.Layer):\n",
    "    \n",
    "#     def __init__(self, units=32):\n",
    "#         super(SimpleDense, self).__init__()\n",
    "#         self.units = units\n",
    "    \n",
    "#     def build(self,  input_shape):\n",
    "#         w_init = tf.random_normal_initializer()\n",
    "#         self.w = tf.Variable(name=\"kernel\",\n",
    "#                             initial_value=w_init(shape=(input_shape[-1], self.units), dtype=\"float32\"),\n",
    "#                             trainable=True)\n",
    "        \n",
    "#         b_init = tf.zeros_initializer()\n",
    "#         self.b = tf.Variable(name=\"bias\",\n",
    "#                             initial_value=b_init(shape=(self.units, ), dtype=\"float32\"),\n",
    "#                             trainable=True)\n",
    "    \n",
    "#     def call(self, inputs):\n",
    "#         return tf.matmul(inputs, self.w) + self.b\n",
    "\n",
    "class SimpleDense(layers.Layer):\n",
    "\n",
    "    def __init__(self, units=32):\n",
    "        '''Initializes the instance attributes'''\n",
    "        super(SimpleDense, self).__init__()\n",
    "        self.units = units\n",
    "\n",
    "    def build(self, input_shape):\n",
    "        '''Create the state of the layer (weights)'''\n",
    "        # initialize the weights\n",
    "        w_init = tf.random_normal_initializer()\n",
    "        self.w = tf.Variable(name=\"kernel\",\n",
    "            initial_value=w_init(shape=(input_shape[-1], self.units),\n",
    "                                 dtype='float32'),\n",
    "            trainable=True)\n",
    "\n",
    "        # initialize the biases\n",
    "        b_init = tf.zeros_initializer()\n",
    "        self.b = tf.Variable(name=\"bias\",\n",
    "            initial_value=b_init(shape=(self.units,), dtype='float32'),\n",
    "            trainable=True)\n",
    "        super().build(input_shape)\n",
    "    def call(self, inputs):\n",
    "        '''Defines the computation from inputs to outputs'''\n",
    "        return tf.matmul(inputs, self.w) + self.b"
   ]
  },
  {
   "cell_type": "code",
   "execution_count": 32,
   "id": "114cd077",
   "metadata": {},
   "outputs": [
    {
     "name": "stdout",
     "output_type": "stream",
     "text": [
      "[<tf.Variable 'simple_dense_17/kernel:0' shape=(1, 1) dtype=float32, numpy=array([[-0.0417685]], dtype=float32)>, <tf.Variable 'simple_dense_17/bias:0' shape=(1,) dtype=float32, numpy=array([0.], dtype=float32)>]\n"
     ]
    }
   ],
   "source": [
    "my_dense = SimpleDense(units=1)\n",
    "\n",
    "# define an input and feed into the layer\n",
    "x = tf.ones((1, 1))\n",
    "y = my_dense(x)\n",
    "\n",
    "# parameters of the base Layer class like `variables` can be used\n",
    "print(my_dense.variables)"
   ]
  },
  {
   "cell_type": "code",
   "execution_count": 33,
   "id": "302a81e4",
   "metadata": {},
   "outputs": [
    {
     "ename": "ValueError",
     "evalue": "in user code:\n\n    File \"C:\\Program Files\\Python38\\lib\\site-packages\\keras\\engine\\training.py\", line 1051, in train_function  *\n        return step_function(self, iterator)\n    File \"C:\\Program Files\\Python38\\lib\\site-packages\\keras\\engine\\training.py\", line 1040, in step_function  **\n        outputs = model.distribute_strategy.run(run_step, args=(data,))\n    File \"C:\\Program Files\\Python38\\lib\\site-packages\\keras\\engine\\training.py\", line 1030, in run_step  **\n        outputs = model.train_step(data)\n    File \"C:\\Program Files\\Python38\\lib\\site-packages\\keras\\engine\\training.py\", line 889, in train_step\n        y_pred = self(x, training=True)\n    File \"C:\\Program Files\\Python38\\lib\\site-packages\\keras\\utils\\traceback_utils.py\", line 67, in error_handler\n        raise e.with_traceback(filtered_tb) from None\n    File \"C:\\Users\\amirr\\AppData\\Local\\Temp\\ipykernel_6064\\3143963372.py\", line 33, in build\n        initial_value=w_init(shape=(input_shape[-1], self.units),\n\n    ValueError: Exception encountered when calling layer \"sequential_9\" (type Sequential).\n    \n    Attempt to convert a value (None) with an unsupported type (<class 'NoneType'>) to a Tensor.\n    \n    Call arguments received by layer \"sequential_9\" (type Sequential):\n      • inputs=tf.Tensor(shape=(None,), dtype=float32)\n      • training=True\n      • mask=None\n",
     "output_type": "error",
     "traceback": [
      "\u001b[1;31m---------------------------------------------------------------------------\u001b[0m",
      "\u001b[1;31mValueError\u001b[0m                                Traceback (most recent call last)",
      "Input \u001b[1;32mIn [33]\u001b[0m, in \u001b[0;36m<cell line: 11>\u001b[1;34m()\u001b[0m\n\u001b[0;32m      9\u001b[0m \u001b[38;5;66;03m# configure and train the model\u001b[39;00m\n\u001b[0;32m     10\u001b[0m model\u001b[38;5;241m.\u001b[39mcompile(optimizer\u001b[38;5;241m=\u001b[39m\u001b[38;5;124m'\u001b[39m\u001b[38;5;124msgd\u001b[39m\u001b[38;5;124m'\u001b[39m, loss\u001b[38;5;241m=\u001b[39m\u001b[38;5;124m'\u001b[39m\u001b[38;5;124mmean_squared_error\u001b[39m\u001b[38;5;124m'\u001b[39m)\n\u001b[1;32m---> 11\u001b[0m \u001b[43mmodel\u001b[49m\u001b[38;5;241;43m.\u001b[39;49m\u001b[43mfit\u001b[49m\u001b[43m(\u001b[49m\u001b[43mxs\u001b[49m\u001b[43m,\u001b[49m\u001b[43m \u001b[49m\u001b[43mys\u001b[49m\u001b[43m,\u001b[49m\u001b[43m \u001b[49m\u001b[43mepochs\u001b[49m\u001b[38;5;241;43m=\u001b[39;49m\u001b[38;5;241;43m500\u001b[39;49m\u001b[43m,\u001b[49m\u001b[43mverbose\u001b[49m\u001b[38;5;241;43m=\u001b[39;49m\u001b[38;5;241;43m0\u001b[39;49m\u001b[43m)\u001b[49m\n\u001b[0;32m     13\u001b[0m \u001b[38;5;66;03m# perform inference\u001b[39;00m\n\u001b[0;32m     14\u001b[0m \u001b[38;5;28mprint\u001b[39m(model\u001b[38;5;241m.\u001b[39mpredict([\u001b[38;5;241m10.0\u001b[39m]))\n",
      "File \u001b[1;32mC:\\Program Files\\Python38\\lib\\site-packages\\keras\\utils\\traceback_utils.py:67\u001b[0m, in \u001b[0;36mfilter_traceback.<locals>.error_handler\u001b[1;34m(*args, **kwargs)\u001b[0m\n\u001b[0;32m     65\u001b[0m \u001b[38;5;28;01mexcept\u001b[39;00m \u001b[38;5;167;01mException\u001b[39;00m \u001b[38;5;28;01mas\u001b[39;00m e:  \u001b[38;5;66;03m# pylint: disable=broad-except\u001b[39;00m\n\u001b[0;32m     66\u001b[0m   filtered_tb \u001b[38;5;241m=\u001b[39m _process_traceback_frames(e\u001b[38;5;241m.\u001b[39m__traceback__)\n\u001b[1;32m---> 67\u001b[0m   \u001b[38;5;28;01mraise\u001b[39;00m e\u001b[38;5;241m.\u001b[39mwith_traceback(filtered_tb) \u001b[38;5;28;01mfrom\u001b[39;00m \u001b[38;5;28mNone\u001b[39m\n\u001b[0;32m     68\u001b[0m \u001b[38;5;28;01mfinally\u001b[39;00m:\n\u001b[0;32m     69\u001b[0m   \u001b[38;5;28;01mdel\u001b[39;00m filtered_tb\n",
      "File \u001b[1;32m~\\AppData\\Local\\Temp\\__autograph_generated_filepr67jxja.py:15\u001b[0m, in \u001b[0;36mouter_factory.<locals>.inner_factory.<locals>.tf__train_function\u001b[1;34m(iterator)\u001b[0m\n\u001b[0;32m     13\u001b[0m \u001b[38;5;28;01mtry\u001b[39;00m:\n\u001b[0;32m     14\u001b[0m     do_return \u001b[38;5;241m=\u001b[39m \u001b[38;5;28;01mTrue\u001b[39;00m\n\u001b[1;32m---> 15\u001b[0m     retval_ \u001b[38;5;241m=\u001b[39m ag__\u001b[38;5;241m.\u001b[39mconverted_call(ag__\u001b[38;5;241m.\u001b[39mld(step_function), (ag__\u001b[38;5;241m.\u001b[39mld(\u001b[38;5;28mself\u001b[39m), ag__\u001b[38;5;241m.\u001b[39mld(iterator)), \u001b[38;5;28;01mNone\u001b[39;00m, fscope)\n\u001b[0;32m     16\u001b[0m \u001b[38;5;28;01mexcept\u001b[39;00m:\n\u001b[0;32m     17\u001b[0m     do_return \u001b[38;5;241m=\u001b[39m \u001b[38;5;28;01mFalse\u001b[39;00m\n",
      "Input \u001b[1;32mIn [31]\u001b[0m, in \u001b[0;36mSimpleDense.build\u001b[1;34m(self, input_shape)\u001b[0m\n\u001b[0;32m     30\u001b[0m \u001b[38;5;66;03m# initialize the weights\u001b[39;00m\n\u001b[0;32m     31\u001b[0m w_init \u001b[38;5;241m=\u001b[39m tf\u001b[38;5;241m.\u001b[39mrandom_normal_initializer()\n\u001b[0;32m     32\u001b[0m \u001b[38;5;28mself\u001b[39m\u001b[38;5;241m.\u001b[39mw \u001b[38;5;241m=\u001b[39m tf\u001b[38;5;241m.\u001b[39mVariable(name\u001b[38;5;241m=\u001b[39m\u001b[38;5;124m\"\u001b[39m\u001b[38;5;124mkernel\u001b[39m\u001b[38;5;124m\"\u001b[39m,\n\u001b[1;32m---> 33\u001b[0m     initial_value\u001b[38;5;241m=\u001b[39m\u001b[43mw_init\u001b[49m\u001b[43m(\u001b[49m\u001b[43mshape\u001b[49m\u001b[38;5;241;43m=\u001b[39;49m\u001b[43m(\u001b[49m\u001b[43minput_shape\u001b[49m\u001b[43m[\u001b[49m\u001b[38;5;241;43m-\u001b[39;49m\u001b[38;5;241;43m1\u001b[39;49m\u001b[43m]\u001b[49m\u001b[43m,\u001b[49m\u001b[43m \u001b[49m\u001b[38;5;28;43mself\u001b[39;49m\u001b[38;5;241;43m.\u001b[39;49m\u001b[43munits\u001b[49m\u001b[43m)\u001b[49m\u001b[43m,\u001b[49m\n\u001b[0;32m     34\u001b[0m \u001b[43m                         \u001b[49m\u001b[43mdtype\u001b[49m\u001b[38;5;241;43m=\u001b[39;49m\u001b[38;5;124;43m'\u001b[39;49m\u001b[38;5;124;43mfloat32\u001b[39;49m\u001b[38;5;124;43m'\u001b[39;49m\u001b[43m)\u001b[49m,\n\u001b[0;32m     35\u001b[0m     trainable\u001b[38;5;241m=\u001b[39m\u001b[38;5;28;01mTrue\u001b[39;00m)\n\u001b[0;32m     37\u001b[0m \u001b[38;5;66;03m# initialize the biases\u001b[39;00m\n\u001b[0;32m     38\u001b[0m b_init \u001b[38;5;241m=\u001b[39m tf\u001b[38;5;241m.\u001b[39mzeros_initializer()\n",
      "\u001b[1;31mValueError\u001b[0m: in user code:\n\n    File \"C:\\Program Files\\Python38\\lib\\site-packages\\keras\\engine\\training.py\", line 1051, in train_function  *\n        return step_function(self, iterator)\n    File \"C:\\Program Files\\Python38\\lib\\site-packages\\keras\\engine\\training.py\", line 1040, in step_function  **\n        outputs = model.distribute_strategy.run(run_step, args=(data,))\n    File \"C:\\Program Files\\Python38\\lib\\site-packages\\keras\\engine\\training.py\", line 1030, in run_step  **\n        outputs = model.train_step(data)\n    File \"C:\\Program Files\\Python38\\lib\\site-packages\\keras\\engine\\training.py\", line 889, in train_step\n        y_pred = self(x, training=True)\n    File \"C:\\Program Files\\Python38\\lib\\site-packages\\keras\\utils\\traceback_utils.py\", line 67, in error_handler\n        raise e.with_traceback(filtered_tb) from None\n    File \"C:\\Users\\amirr\\AppData\\Local\\Temp\\ipykernel_6064\\3143963372.py\", line 33, in build\n        initial_value=w_init(shape=(input_shape[-1], self.units),\n\n    ValueError: Exception encountered when calling layer \"sequential_9\" (type Sequential).\n    \n    Attempt to convert a value (None) with an unsupported type (<class 'NoneType'>) to a Tensor.\n    \n    Call arguments received by layer \"sequential_9\" (type Sequential):\n      • inputs=tf.Tensor(shape=(None,), dtype=float32)\n      • training=True\n      • mask=None\n"
     ]
    }
   ],
   "source": [
    "xs = np.array([-1.0,  0.0, 1.0, 2.0, 3.0, 4.0], dtype=float)\n",
    "ys = np.array([-3.0, -1.0, 1.0, 3.0, 5.0, 7.0], dtype=float)\n",
    "\n",
    "\n",
    "# use the Sequential API to build a model with our custom layer\n",
    "my_layer = SimpleDense(units=1, inp)\n",
    "model = tf.keras.Sequential([my_layer])\n",
    "\n",
    "# configure and train the model\n",
    "model.compile(optimizer='sgd', loss='mean_squared_error')\n",
    "model.fit(xs, ys, epochs=500,verbose=0)\n",
    "\n",
    "# perform inference\n",
    "print(model.predict([10.0]))\n",
    "\n",
    "# see the updated state of the variables\n",
    "print(my_layer.variables)"
   ]
  },
  {
   "cell_type": "code",
   "execution_count": null,
   "id": "bf44d76e",
   "metadata": {},
   "outputs": [],
   "source": []
  }
 ],
 "metadata": {
  "kernelspec": {
   "display_name": "Python 3 (ipykernel)",
   "language": "python",
   "name": "python3"
  },
  "language_info": {
   "codemirror_mode": {
    "name": "ipython",
    "version": 3
   },
   "file_extension": ".py",
   "mimetype": "text/x-python",
   "name": "python",
   "nbconvert_exporter": "python",
   "pygments_lexer": "ipython3",
   "version": "3.8.0"
  }
 },
 "nbformat": 4,
 "nbformat_minor": 5
}
