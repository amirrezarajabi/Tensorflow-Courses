{
 "cells": [
  {
   "cell_type": "code",
   "execution_count": 1,
   "id": "53bce5e4",
   "metadata": {},
   "outputs": [],
   "source": [
    "import tensorflow as tf\n",
    "import numpy as np\n",
    "import matplotlib.pyplot as plt\n",
    "import tensorflow.keras as keras\n",
    "import tensorflow.keras.backend as K"
   ]
  },
  {
   "cell_type": "code",
   "execution_count": 2,
   "id": "3e51529e",
   "metadata": {},
   "outputs": [
    {
     "name": "stdout",
     "output_type": "stream",
     "text": [
      "y = 1.9897205829620361x + -1.0011588335037231\n"
     ]
    }
   ],
   "source": [
    "import random\n",
    "\n",
    "xs = np.arange(-1, 5, 1).astype(float)\n",
    "ys = 2 * xs - 1\n",
    "\n",
    "w = tf.Variable(random.random(), trainable=True)\n",
    "b = tf.Variable(random.random(), trainable=True)\n",
    "\n",
    "def simple_loss(y_true, y_pred):\n",
    "    return K.abs(y_true - y_pred)\n",
    "\n",
    "LEARNING_RATE = 3e-3\n",
    "\n",
    "def fit_data(X, y):\n",
    "    with tf.GradientTape(persistent=True) as tape:\n",
    "        y_pred = w * X + b\n",
    "        loss = simple_loss(y, y_pred)\n",
    "    \n",
    "    w_gradient = tape.gradient(loss, w)\n",
    "    b_gradient = tape.gradient(loss, b)\n",
    "    w.assign_sub(LEARNING_RATE * w_gradient)\n",
    "    b.assign_sub(LEARNING_RATE * b_gradient)\n",
    "\n",
    "for _ in range(500):\n",
    "    fit_data(xs, ys)\n",
    "\n",
    "print(f\"y = {w.numpy()}x + {b.numpy()}\")"
   ]
  }
 ],
 "metadata": {
  "kernelspec": {
   "display_name": "Python 3 (ipykernel)",
   "language": "python",
   "name": "python3"
  },
  "language_info": {
   "codemirror_mode": {
    "name": "ipython",
    "version": 3
   },
   "file_extension": ".py",
   "mimetype": "text/x-python",
   "name": "python",
   "nbconvert_exporter": "python",
   "pygments_lexer": "ipython3",
   "version": "3.8.0"
  }
 },
 "nbformat": 4,
 "nbformat_minor": 5
}
