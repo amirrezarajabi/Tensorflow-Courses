{
 "cells": [
  {
   "cell_type": "code",
   "execution_count": 1,
   "id": "7e605653",
   "metadata": {},
   "outputs": [],
   "source": [
    "from tensorflow.keras.preprocessing.text import Tokenizer\n",
    "from tensorflow.keras.preprocessing.sequence import pad_sequences"
   ]
  },
  {
   "cell_type": "code",
   "execution_count": 2,
   "id": "33a72768",
   "metadata": {},
   "outputs": [],
   "source": [
    "sentences = [\n",
    "    \"I love my family\",\n",
    "    \"I love my laptop\",\n",
    "    \"you love laptop!\",\n",
    "    \"Do you think your laptop is nice?\"\n",
    "]"
   ]
  },
  {
   "cell_type": "code",
   "execution_count": 3,
   "id": "3c329e12",
   "metadata": {},
   "outputs": [],
   "source": [
    "tokenizer = Tokenizer(num_words=10, oov_token=\"<OOV>\")\n",
    "tokenizer.fit_on_texts(sentences)"
   ]
  },
  {
   "cell_type": "code",
   "execution_count": 4,
   "id": "fe1316d1",
   "metadata": {},
   "outputs": [
    {
     "data": {
      "text/plain": [
       "{'<OOV>': 1,\n",
       " 'love': 2,\n",
       " 'laptop': 3,\n",
       " 'i': 4,\n",
       " 'my': 5,\n",
       " 'you': 6,\n",
       " 'family': 7,\n",
       " 'do': 8,\n",
       " 'think': 9,\n",
       " 'your': 10,\n",
       " 'is': 11,\n",
       " 'nice': 12}"
      ]
     },
     "execution_count": 4,
     "metadata": {},
     "output_type": "execute_result"
    }
   ],
   "source": [
    "tokenizer.word_index"
   ]
  },
  {
   "cell_type": "code",
   "execution_count": 5,
   "id": "0c6dff57",
   "metadata": {},
   "outputs": [
    {
     "data": {
      "text/plain": [
       "OrderedDict([('i', 2),\n",
       "             ('love', 3),\n",
       "             ('my', 2),\n",
       "             ('family', 1),\n",
       "             ('laptop', 3),\n",
       "             ('you', 2),\n",
       "             ('do', 1),\n",
       "             ('think', 1),\n",
       "             ('your', 1),\n",
       "             ('is', 1),\n",
       "             ('nice', 1)])"
      ]
     },
     "execution_count": 5,
     "metadata": {},
     "output_type": "execute_result"
    }
   ],
   "source": [
    "tokenizer.word_counts"
   ]
  },
  {
   "cell_type": "code",
   "execution_count": 6,
   "id": "02fd743e",
   "metadata": {},
   "outputs": [
    {
     "data": {
      "text/plain": [
       "defaultdict(int,\n",
       "            {'love': 3,\n",
       "             'family': 1,\n",
       "             'my': 2,\n",
       "             'i': 2,\n",
       "             'laptop': 3,\n",
       "             'you': 2,\n",
       "             'think': 1,\n",
       "             'nice': 1,\n",
       "             'is': 1,\n",
       "             'do': 1,\n",
       "             'your': 1})"
      ]
     },
     "execution_count": 6,
     "metadata": {},
     "output_type": "execute_result"
    }
   ],
   "source": [
    "tokenizer.word_docs"
   ]
  },
  {
   "cell_type": "code",
   "execution_count": 7,
   "id": "842e66b5",
   "metadata": {},
   "outputs": [
    {
     "data": {
      "text/plain": [
       "[[4, 2, 5, 7], [4, 2, 5, 3], [6, 2, 3], [8, 6, 9, 1, 3, 1, 1]]"
      ]
     },
     "execution_count": 7,
     "metadata": {},
     "output_type": "execute_result"
    }
   ],
   "source": [
    "sequences = tokenizer.texts_to_sequences(sentences)\n",
    "sequences"
   ]
  },
  {
   "cell_type": "code",
   "execution_count": 8,
   "id": "17c33a71",
   "metadata": {},
   "outputs": [
    {
     "data": {
      "text/plain": [
       "array([[0, 4, 2, 5, 7],\n",
       "       [0, 4, 2, 5, 3],\n",
       "       [0, 0, 6, 2, 3],\n",
       "       [9, 1, 3, 1, 1]])"
      ]
     },
     "execution_count": 8,
     "metadata": {},
     "output_type": "execute_result"
    }
   ],
   "source": [
    "padded = pad_sequences(sequences, maxlen=5)\n",
    "padded"
   ]
  },
  {
   "cell_type": "code",
   "execution_count": 9,
   "id": "533d0e00",
   "metadata": {},
   "outputs": [
    {
     "data": {
      "text/plain": [
       "array([[4, 2, 5, 7, 0],\n",
       "       [4, 2, 5, 3, 0],\n",
       "       [6, 2, 3, 0, 0],\n",
       "       [9, 1, 3, 1, 1]])"
      ]
     },
     "execution_count": 9,
     "metadata": {},
     "output_type": "execute_result"
    }
   ],
   "source": [
    "padded = pad_sequences(sequences, maxlen=5, padding=\"post\")\n",
    "padded"
   ]
  },
  {
   "cell_type": "code",
   "execution_count": 10,
   "id": "12e979c6",
   "metadata": {},
   "outputs": [
    {
     "data": {
      "text/plain": [
       "array([[4, 2, 5, 7, 0],\n",
       "       [4, 2, 5, 3, 0],\n",
       "       [6, 2, 3, 0, 0],\n",
       "       [8, 6, 9, 1, 3]])"
      ]
     },
     "execution_count": 10,
     "metadata": {},
     "output_type": "execute_result"
    }
   ],
   "source": [
    "padded = pad_sequences(sequences, maxlen=5, padding=\"post\", truncating=\"post\")\n",
    "padded"
   ]
  },
  {
   "cell_type": "code",
   "execution_count": 11,
   "id": "7d8ffd0e",
   "metadata": {},
   "outputs": [
    {
     "data": {
      "text/plain": [
       "(4, 5)"
      ]
     },
     "execution_count": 11,
     "metadata": {},
     "output_type": "execute_result"
    }
   ],
   "source": [
    "padded = pad_sequences(sequences, maxlen=5)\n",
    "padded.shape"
   ]
  },
  {
   "cell_type": "code",
   "execution_count": 12,
   "id": "d5e876da",
   "metadata": {},
   "outputs": [],
   "source": [
    "test_data = [\n",
    "    \"I really love my laptop\",\n",
    "    \"Hi\"\n",
    "]"
   ]
  },
  {
   "cell_type": "code",
   "execution_count": 13,
   "id": "a2f94062",
   "metadata": {},
   "outputs": [
    {
     "data": {
      "text/plain": [
       "[[4, 1, 2, 5, 3], [1]]"
      ]
     },
     "execution_count": 13,
     "metadata": {},
     "output_type": "execute_result"
    }
   ],
   "source": [
    "test_seq = tokenizer.texts_to_sequences(test_data)\n",
    "test_seq"
   ]
  }
 ],
 "metadata": {
  "kernelspec": {
   "display_name": "Python 3 (ipykernel)",
   "language": "python",
   "name": "python3"
  },
  "language_info": {
   "codemirror_mode": {
    "name": "ipython",
    "version": 3
   },
   "file_extension": ".py",
   "mimetype": "text/x-python",
   "name": "python",
   "nbconvert_exporter": "python",
   "pygments_lexer": "ipython3",
   "version": "3.8.0"
  }
 },
 "nbformat": 4,
 "nbformat_minor": 5
}
